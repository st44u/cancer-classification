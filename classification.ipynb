{
 "cells": [
  {
   "cell_type": "code",
   "execution_count": null,
   "id": "20c601d9-c9c8-49c2-a553-ba8bbd45846c",
   "metadata": {},
   "outputs": [],
   "source": [
    "import numpy as np\n",
    "import pandas as pd\n",
    "import matplotlib.pyplot as plt\n",
    "import sklearn.datasets\n",
    "from sklearn.model_selection import train_test_split"
   ]
  },
  {
   "cell_type": "code",
   "execution_count": null,
   "id": "735e92ba-1070-450e-8f8c-8c6b87f2d9ee",
   "metadata": {},
   "outputs": [],
   "source": [
    "# loading the data from sklearn\n",
    "breast_cancer_dataset = sklearn.datasets.load_breast_cancer()"
   ]
  },
  {
   "cell_type": "code",
   "execution_count": null,
   "id": "e815adcc-befc-4cee-bb63-7ebfddeb60c2",
   "metadata": {},
   "outputs": [],
   "source": [
    "# loading the data to a data frame\n",
    "data_frame = pd.DataFrame(breast_cancer_dataset.data, columns = breast_cancer_dataset.feature_names)"
   ]
  },
  {
   "cell_type": "code",
   "execution_count": null,
   "id": "a7bfc276-7c91-4e4d-9b54-25ce2737892e",
   "metadata": {},
   "outputs": [],
   "source": [
    "data_frame['label'] = breast_cancer_dataset.target"
   ]
  },
  {
   "cell_type": "code",
   "execution_count": null,
   "id": "60d430cd-e38b-4e71-b664-b7b51343d9b5",
   "metadata": {},
   "outputs": [],
   "source": [
    "data_frame.isnull().sum()"
   ]
  },
  {
   "cell_type": "code",
   "execution_count": null,
   "id": "67dfe74a-55a7-4bfb-b219-f60df8866d2a",
   "metadata": {},
   "outputs": [],
   "source": [
    "data_frame.describe()\n",
    "data_frame['label'].value_counts()\n",
    "data_frame.groupby('label').mean()"
   ]
  },
  {
   "cell_type": "code",
   "execution_count": null,
   "id": "afd41fc7-521a-4d14-855e-397f1016d680",
   "metadata": {},
   "outputs": [],
   "source": [
    "X = data_frame.drop(columns='label', axis=1)\n",
    "Y = data_frame['label']"
   ]
  },
  {
   "cell_type": "code",
   "execution_count": null,
   "id": "48fb9e56-7332-4240-b636-8843e1005b23",
   "metadata": {},
   "outputs": [],
   "source": [
    "X_train, X_test, Y_train, Y_test = train_test_split(X, Y, test_size=0.2, random_state=2)"
   ]
  },
  {
   "cell_type": "code",
   "execution_count": null,
   "id": "5d8b9779-3404-4dbd-bf95-dfa8e731337b",
   "metadata": {},
   "outputs": [],
   "source": [
    "print(X.shape, X_train.shape, X_test.shape)"
   ]
  },
  {
   "cell_type": "code",
   "execution_count": null,
   "id": "153736c4-3e09-4586-aedc-bd4e5f2a6957",
   "metadata": {},
   "outputs": [],
   "source": [
    "from sklearn.preprocessing import StandardScaler"
   ]
  },
  {
   "cell_type": "code",
   "execution_count": null,
   "id": "cc66373f-7c3e-4cbf-b017-7c25b7389253",
   "metadata": {},
   "outputs": [],
   "source": [
    "scaler = StandardScaler()\n",
    "\n",
    "X_train_std = scaler.fit_transform(X_train)\n",
    "\n",
    "X_test_std = scaler.transform(X_test)"
   ]
  },
  {
   "cell_type": "code",
   "execution_count": null,
   "id": "b47f21fd-3e7a-45c2-b8af-b0071d4c7672",
   "metadata": {},
   "outputs": [],
   "source": [
    "import tensorflow as tf \n",
    "tf.random.set_seed(3)\n",
    "from tensorflow import keras"
   ]
  },
  {
   "cell_type": "code",
   "execution_count": null,
   "id": "28352c56-8313-4681-9d8a-ee85bdcc6c3f",
   "metadata": {},
   "outputs": [],
   "source": [
    "# setting up the layers of Neural Network\n",
    "\n",
    "model = keras.Sequential([keras.layers.Flatten(input_shape=(30,)),keras.layers.Dense(20, activation='relu'),keras.layers.Dense(2, activation='sigmoid')])"
   ]
  },
  {
   "cell_type": "code",
   "execution_count": null,
   "id": "ae183b30-653d-4689-9930-484453af99dc",
   "metadata": {},
   "outputs": [],
   "source": [
    "model.compile(optimizer='adam',\n",
    "              loss='sparse_categorical_crossentropy',\n",
    "              metrics=['accuracy'])"
   ]
  },
  {
   "cell_type": "code",
   "execution_count": null,
   "id": "cfc876f0-1397-4463-869e-49043da217b0",
   "metadata": {},
   "outputs": [],
   "source": [
    "# training the Meural Network\n",
    "\n",
    "history = model.fit(X_train_std, Y_train, validation_split=0.1, epochs=10)"
   ]
  },
  {
   "cell_type": "code",
   "execution_count": null,
   "id": "3ae3d65f-ae82-4e83-b4e0-3a12b1cc139f",
   "metadata": {},
   "outputs": [],
   "source": [
    "plt.plot(history.history['accuracy'])\n",
    "plt.plot(history.history['val_accuracy'])\n",
    "\n",
    "plt.title('model accuracy')\n",
    "plt.ylabel('accuracy')\n",
    "plt.xlabel('epoch')\n",
    "\n",
    "plt.legend(['training data', 'validation data'], loc = 'lower right')"
   ]
  },
  {
   "cell_type": "code",
   "execution_count": null,
   "id": "52ef4d52-9aa4-43f4-8789-b3a46094854c",
   "metadata": {},
   "outputs": [],
   "source": [
    "plt.plot(history.history['loss'])\n",
    "plt.plot(history.history['val_loss'])\n",
    "\n",
    "plt.title('model loss')\n",
    "plt.ylabel('loss')\n",
    "plt.xlabel('epoch')\n",
    "\n",
    "plt.legend(['training data', 'validation data'], loc = 'upper right')"
   ]
  },
  {
   "cell_type": "code",
   "execution_count": null,
   "id": "2af618ef-f55e-4c89-9ecc-1c25de33b28a",
   "metadata": {},
   "outputs": [],
   "source": [
    "loss, accuracy = model.evaluate(X_test_std, Y_test)\n",
    "print(accuracy)"
   ]
  },
  {
   "cell_type": "code",
   "execution_count": null,
   "id": "92160653-0dbb-4f66-aac7-2fa42e85f519",
   "metadata": {},
   "outputs": [],
   "source": [
    "Y_pred = model.predict(X_test_std)"
   ]
  },
  {
   "cell_type": "code",
   "execution_count": null,
   "id": "57a8a104-80a4-4b7a-beea-af9c92186b75",
   "metadata": {},
   "outputs": [],
   "source": [
    "print(Y_pred.shape)\n",
    "print(Y_pred[0])"
   ]
  },
  {
   "cell_type": "code",
   "execution_count": null,
   "id": "b2f94a9e-8bb3-444a-a8ab-a56640a58dae",
   "metadata": {},
   "outputs": [],
   "source": [
    "#  argmax function\n",
    "\n",
    "my_list = [0.25, 0.56]\n",
    "\n",
    "index_of_max_value = np.argmax(my_list)\n",
    "print(my_list)\n",
    "print(index_of_max_value)"
   ]
  },
  {
   "cell_type": "code",
   "execution_count": null,
   "id": "7f36760c-0c40-43ca-83c6-2904827e607f",
   "metadata": {},
   "outputs": [],
   "source": [
    "# converting the prediction probability to class labels\n",
    "\n",
    "Y_pred_labels = [np.argmax(i) for i in Y_pred]\n",
    "print(Y_pred_labels)"
   ]
  },
  {
   "cell_type": "code",
   "execution_count": null,
   "id": "41333be5-2082-47b0-85ee-0bfe581c255b",
   "metadata": {},
   "outputs": [],
   "source": [
    "input_data = (11.76,21.6,74.72,427.9,0.08637,0.04966,0.01657,0.01115,0.1495,0.05888,0.4062,1.21,2.635,28.47,0.005857,0.009758,0.01168,0.007445,0.02406,0.001769,12.98,25.72,82.98,516.5,0.1085,0.08615,0.05523,0.03715,0.2433,0.06563)\n",
    "input_data_as_numpy_array = np.asarray(input_data)\n",
    "input_data_reshaped = input_data_as_numpy_array.reshape(1,-1)\n",
    "input_data_std = scaler.transform(input_data_reshaped)\n",
    "prediction = model.predict(input_data_std)\n",
    "print(prediction)\n",
    "prediction_label = [np.argmax(prediction)]\n",
    "print(prediction_label)\n",
    "if(prediction_label[0] == 0):\n",
    "  print('The tumor is Malignant')\n",
    "else:\n",
    "  print('The tumor is Benign')"
   ]
  }
 ],
 "metadata": {
  "kernelspec": {
   "display_name": "Python 3 (ipykernel)",
   "language": "python",
   "name": "python3"
  },
  "language_info": {
   "codemirror_mode": {
    "name": "ipython",
    "version": 3
   },
   "file_extension": ".py",
   "mimetype": "text/x-python",
   "name": "python",
   "nbconvert_exporter": "python",
   "pygments_lexer": "ipython3",
   "version": "3.8.10"
  }
 },
 "nbformat": 4,
 "nbformat_minor": 5
}
